{
 "cells": [
  {
   "cell_type": "markdown",
   "metadata": {},
   "source": [
    "## Create a function in python to read the text file and replace specific contentof the file."
   ]
  },
  {
   "cell_type": "code",
   "execution_count": 3,
   "metadata": {},
   "outputs": [],
   "source": [
    "import logging\n",
    "def read_text():\n",
    "    logging.basicConfig(filename=\"file1.log\", level=logging.DEBUG, format='%(asctime)s %(levelname)s %(message)s')\n",
    "    try:\n",
    "        f = open('example.txt' , \"w+\")\n",
    "        f.write(\"This is a placement assignment\")\n",
    "        f.close()\n",
    "        f1= open('example.txt' , \"rt\")\n",
    "        data=f1.read()\n",
    "        data=data.replace('placement', 'screening')\n",
    "        f1.close()\n",
    "        f2= open('example.txt' , \"wt\")\n",
    "        f2.write(data)\n",
    "        f2.close()\n",
    "    except Exception as e:\n",
    "        logging.error(e)\n",
    "\n",
    "read_text()"
   ]
  },
  {
   "cell_type": "markdown",
   "metadata": {},
   "source": [
    "## Demonstrate use of abstract class, multiple inheritance and decorator in python using examples."
   ]
  },
  {
   "cell_type": "code",
   "execution_count": 11,
   "metadata": {},
   "outputs": [
    {
     "name": "stdout",
     "output_type": "stream",
     "text": [
      "We will teach students.\n",
      "We will learn from teachers.\n"
     ]
    }
   ],
   "source": [
    "# Abstract class\n",
    "from abc import ABC, abstractmethod\n",
    "import logging\n",
    "logging.basicConfig(filename=\"file2.log\", level=logging.DEBUG, format='%(asctime)s %(levelname)s %(message)s')\n",
    "try:\n",
    "    class Principal(ABC):\n",
    "\n",
    "        @abstractmethod\n",
    "        def duty(self):\n",
    "            pass\n",
    "\n",
    "    class Teachers(Principal):\n",
    "        # overriding abstract method\n",
    "        def duty(self):\n",
    "            print(\"We will teach students.\")\n",
    "    class Students(Principal):\n",
    "\n",
    "        # overriding abstract method\n",
    "        def duty(self):\n",
    "            print(\"We will learn from teachers.\") \n",
    "except Exception as e:\n",
    "    logging.error(e)\n",
    "    \n",
    "        \n",
    "T=Teachers()\n",
    "T.duty()\n",
    "S=Students()\n",
    "S.duty()"
   ]
  },
  {
   "cell_type": "code",
   "execution_count": 12,
   "metadata": {},
   "outputs": [
    {
     "name": "stdout",
     "output_type": "stream",
     "text": [
      "Batch : 2\n",
      "course : Physics\n"
     ]
    }
   ],
   "source": [
    "#Multiple inheritance\n",
    " \n",
    "import logging\n",
    "logging.basicConfig(filename=\"file3.log\", level=logging.DEBUG, format='%(asctime)s %(levelname)s %(message)s') \n",
    "# Parent class1\n",
    "try:\n",
    "    class Batch_number:\n",
    "        batchnumber = \"\"\n",
    "        def __init__(self,a,b,c):\n",
    "            self.a = a \n",
    "            self.b= b \n",
    "            self.c = c \n",
    "        @staticmethod   \n",
    "        def batch(self):\n",
    "            print(self.batchnumber)\n",
    "\n",
    "    # Parent class2\n",
    "    class course_name:\n",
    "        cname = \"\"\n",
    "        def course(self):\n",
    "            print(self.cname)\n",
    "\n",
    "    # Child class\n",
    "    class Student(Batch_number, course_name):\n",
    "        def deets(self):\n",
    "            print(\"Batch :\", self.batchnumber)\n",
    "            print(\"course :\", self.cname)\n",
    "except Exception as e:\n",
    "    logging.error(e)\n",
    "    \n",
    " \n",
    "# Child class code\n",
    "s1 = Student(4,5,6)\n",
    "s1.batchnumber = \"2\"\n",
    "s1.cname = \"Physics\"\n",
    "s1.deets()"
   ]
  },
  {
   "cell_type": "code",
   "execution_count": 14,
   "metadata": {},
   "outputs": [
    {
     "name": "stdout",
     "output_type": "stream",
     "text": [
      "We are in first function\n",
      "This is first child function\n",
      " This is second child function\n"
     ]
    }
   ],
   "source": [
    "# Decoraters in python\n",
    "import logging\n",
    "logging.basicConfig(filename=\"file4.log\", level=logging.DEBUG, format='%(asctime)s %(levelname)s %(message)s') \n",
    "try:\n",
    "    def func():\n",
    "        print(\"We are in first function\")  \n",
    "        def func1():\n",
    "            print(\"This is first child function\")  \n",
    "        def func2():\n",
    "            print(\" This is second child function\")  \n",
    "        func1()  \n",
    "        func2()  \n",
    "    func() \n",
    "except Exception as e:\n",
    "    logging.error(e)\n",
    "\n",
    "    "
   ]
  },
  {
   "cell_type": "markdown",
   "metadata": {},
   "source": [
    "## example 2"
   ]
  },
  {
   "cell_type": "code",
   "execution_count": 15,
   "metadata": {},
   "outputs": [
    {
     "name": "stdout",
     "output_type": "stream",
     "text": [
      "I got decorated\n",
      "I am ordinary\n"
     ]
    }
   ],
   "source": [
    "## VERSION1\n",
    "logging.basicConfig(filename=\"file5.log\", level=logging.DEBUG, format='%(asctime)s %(levelname)s %(message)s') \n",
    "try:\n",
    "    def make_pretty(func):\n",
    "        def inner():\n",
    "            print(\"I got decorated\")\n",
    "            func()\n",
    "        return inner\n",
    "    #@make_pretty\n",
    "    def ordinary():\n",
    "        print(\"I am ordinary\")\n",
    "\n",
    "    p=make_pretty(ordinary)\n",
    "    p()\n",
    "except Exception as e:\n",
    "    logging.error(e)\n",
    "\n",
    "    "
   ]
  },
  {
   "cell_type": "code",
   "execution_count": 16,
   "metadata": {},
   "outputs": [
    {
     "name": "stdout",
     "output_type": "stream",
     "text": [
      "I got decorated\n",
      "I got decorated\n",
      "I am ordinary\n"
     ]
    }
   ],
   "source": [
    "## VERSION2\n",
    "logging.basicConfig(filename=\"file6.log\", level=logging.DEBUG, format='%(asctime)s %(levelname)s %(message)s') \n",
    "try:\n",
    "    def make_pretty(func):\n",
    "        def inner():\n",
    "            print(\"I got decorated\")\n",
    "            func()\n",
    "        return inner\n",
    "    @make_pretty\n",
    "    def ordinary():\n",
    "        print(\"I am ordinary\")\n",
    "\n",
    "    p=make_pretty(ordinary)\n",
    "    p()\n",
    "except Exception as e:\n",
    "    logging.error(e)\n",
    "    "
   ]
  },
  {
   "cell_type": "code",
   "execution_count": null,
   "metadata": {},
   "outputs": [],
   "source": []
  }
 ],
 "metadata": {
  "kernelspec": {
   "display_name": "Python 3",
   "language": "python",
   "name": "python3"
  },
  "language_info": {
   "codemirror_mode": {
    "name": "ipython",
    "version": 3
   },
   "file_extension": ".py",
   "mimetype": "text/x-python",
   "name": "python",
   "nbconvert_exporter": "python",
   "pygments_lexer": "ipython3",
   "version": "3.8.5"
  }
 },
 "nbformat": 4,
 "nbformat_minor": 4
}
