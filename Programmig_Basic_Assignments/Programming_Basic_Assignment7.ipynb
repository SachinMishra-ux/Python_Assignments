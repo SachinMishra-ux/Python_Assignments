{
 "cells": [
  {
   "cell_type": "markdown",
   "metadata": {},
   "source": [
    "## 1 Write a Python Program to find sum of array?\n"
   ]
  },
  {
   "cell_type": "code",
   "execution_count": 1,
   "metadata": {},
   "outputs": [
    {
     "name": "stdout",
     "output_type": "stream",
     "text": [
      "Enter Values of an array separated by comma:1,2,3,4\n",
      "[1, 2, 3, 4]\n",
      "10\n"
     ]
    }
   ],
   "source": [
    "a= [eval(x) for x in input(\"Enter Values of an array separated by comma:\").split(\",\")]\n",
    "print(a)\n",
    "print(sum(a)) ## If we consider list as an array we can do this."
   ]
  },
  {
   "cell_type": "markdown",
   "metadata": {},
   "source": [
    "## or if we are considering pure array."
   ]
  },
  {
   "cell_type": "code",
   "execution_count": 2,
   "metadata": {},
   "outputs": [
    {
     "name": "stdout",
     "output_type": "stream",
     "text": [
      "Enter Values of an array separated by comma:1,2,3,5\n",
      "[1, 2, 3, 5]\n",
      "11\n"
     ]
    }
   ],
   "source": [
    "a= [eval(x) for x in input(\"Enter Values of an array separated by comma:\").split(\",\")]\n",
    "print(a)\n",
    "s=0\n",
    "for i in a:\n",
    "    s=s+i\n",
    "print(s)    "
   ]
  },
  {
   "cell_type": "markdown",
   "metadata": {},
   "source": [
    "## 2 Write a Python Program to find largest element in an array?\n"
   ]
  },
  {
   "cell_type": "code",
   "execution_count": 1,
   "metadata": {},
   "outputs": [
    {
     "name": "stdout",
     "output_type": "stream",
     "text": [
      "Enter Values of an array separated by comma:1,2,3,4\n",
      "[1, 2, 3, 4]\n",
      "4\n"
     ]
    }
   ],
   "source": [
    "b= [eval(x) for x in input(\"Enter Values of an array separated by comma:\").split(\",\")]\n",
    "print(b)\n",
    "print(max(b)) ## If we consider list as an array we can do this."
   ]
  },
  {
   "cell_type": "markdown",
   "metadata": {},
   "source": [
    "## or if we are considering pure array."
   ]
  },
  {
   "cell_type": "code",
   "execution_count": 2,
   "metadata": {},
   "outputs": [
    {
     "name": "stdout",
     "output_type": "stream",
     "text": [
      "Enter Values of an array separated by comma:1,2,3,4\n",
      "[1, 2, 3, 4]\n",
      "4\n"
     ]
    }
   ],
   "source": [
    "b= [eval(x) for x in input(\"Enter Values of an array separated by comma:\").split(\",\")]\n",
    "print(b)\n",
    "m=0\n",
    "for i in b:\n",
    "    if i>m:\n",
    "        m=i\n",
    "print(m)   "
   ]
  },
  {
   "cell_type": "markdown",
   "metadata": {},
   "source": [
    "## Write a Python Program for array rotation?"
   ]
  },
  {
   "cell_type": "code",
   "execution_count": 7,
   "metadata": {},
   "outputs": [
    {
     "name": "stdout",
     "output_type": "stream",
     "text": [
      "Enter Values of an array separated by comma:1,2,3,4,5,6\n",
      "Enter rotation number:3\n",
      "[1, 2, 3, 4, 5, 6]\n",
      "[1, 2, 3]\n",
      "[4, 5, 6, 1, 2, 3]\n"
     ]
    }
   ],
   "source": [
    "c= [eval(x) for x in input(\"Enter Values of an array separated by comma:\").split(\",\")]\n",
    "d=int(input(\"Enter rotation number:\"))\n",
    "print(c)\n",
    "temp=c[0:d:1]\n",
    "print(temp)\n",
    "i=0\n",
    "while i<d:\n",
    "    c.append(c[i])\n",
    "    i+=1\n",
    "print(c[d: :])    \n"
   ]
  },
  {
   "cell_type": "markdown",
   "metadata": {},
   "source": [
    "## Write a Python Program to Split the array and add the first part to the end?"
   ]
  },
  {
   "cell_type": "code",
   "execution_count": 8,
   "metadata": {},
   "outputs": [
    {
     "name": "stdout",
     "output_type": "stream",
     "text": [
      "Enter Values of an array separated by comma:1,2,3,4,5\n",
      "Enter rotation number:4\n",
      "[1, 2, 3, 4, 5]\n",
      "[1, 2, 3, 4]\n",
      "[5, 1, 2, 3, 4]\n"
     ]
    }
   ],
   "source": [
    "c= [eval(x) for x in input(\"Enter Values of an array separated by comma:\").split(\",\")]\n",
    "d=int(input(\"Enter rotation number:\"))\n",
    "print(c)\n",
    "temp=c[0:d:1]\n",
    "print(temp)\n",
    "i=0\n",
    "while i<d:\n",
    "    c.append(c[i])\n",
    "    i+=1\n",
    "print(c[d: :])    "
   ]
  },
  {
   "cell_type": "markdown",
   "metadata": {},
   "source": [
    "## Write a Python Program to check if given array is Monotonic?"
   ]
  },
  {
   "cell_type": "code",
   "execution_count": 33,
   "metadata": {},
   "outputs": [
    {
     "name": "stdout",
     "output_type": "stream",
     "text": [
      "Enter Values of an array separated by comma:1,2,4,3\n",
      "False\n"
     ]
    }
   ],
   "source": [
    "c= [eval(x) for x in input(\"Enter Values of an array separated by comma:\").split(\",\")]\n",
    "for i in range(len(c)-1):\n",
    "    if all(c[i] <= c[i + 1] for i in range(len(c) - 1)) or all(c[i] >= c[i + 1] for i in range(len(c) - 1)):\n",
    "        pass\n",
    "    else:\n",
    "        i=0\n",
    "        print(\"False\")\n",
    "        break\n",
    "if i!=0:\n",
    "    print(\"True\")"
   ]
  },
  {
   "cell_type": "code",
   "execution_count": 38,
   "metadata": {},
   "outputs": [
    {
     "name": "stdout",
     "output_type": "stream",
     "text": [
      "Help on built-in function all in module builtins:\n",
      "\n",
      "all(iterable, /)\n",
      "    Return True if bool(x) is True for all values x in the iterable.\n",
      "    \n",
      "    If the iterable is empty, return True.\n",
      "\n"
     ]
    }
   ],
   "source": [
    "help(all)"
   ]
  },
  {
   "cell_type": "code",
   "execution_count": null,
   "metadata": {},
   "outputs": [],
   "source": []
  }
 ],
 "metadata": {
  "kernelspec": {
   "display_name": "Python 3",
   "language": "python",
   "name": "python3"
  },
  "language_info": {
   "codemirror_mode": {
    "name": "ipython",
    "version": 3
   },
   "file_extension": ".py",
   "mimetype": "text/x-python",
   "name": "python",
   "nbconvert_exporter": "python",
   "pygments_lexer": "ipython3",
   "version": "3.8.5"
  }
 },
 "nbformat": 4,
 "nbformat_minor": 4
}
