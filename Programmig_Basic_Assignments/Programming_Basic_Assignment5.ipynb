{
 "cells": [
  {
   "cell_type": "markdown",
   "metadata": {},
   "source": [
    "## Write a Python Program to Find LCM?\n"
   ]
  },
  {
   "cell_type": "code",
   "execution_count": 2,
   "metadata": {},
   "outputs": [
    {
     "name": "stdout",
     "output_type": "stream",
     "text": [
      "Enter first number:15\n",
      "Enter second number:32\n",
      "LCM of 15 and 32 is 480\n"
     ]
    }
   ],
   "source": [
    "n1=int(input(\"Enter first number:\"))\n",
    "n2=int(input(\"Enter second number:\"))\n",
    "\n",
    "if n1>n2:\n",
    "    greater=n1\n",
    "else:\n",
    "    greater=n2\n",
    "    \n",
    "while True:\n",
    "    if greater%n1==0 and greater%n2==0:\n",
    "        lcm=greater\n",
    "        break\n",
    "    greater+=1\n",
    "print(f\"LCM of {n1} and {n2} is {lcm}\")    "
   ]
  },
  {
   "cell_type": "markdown",
   "metadata": {},
   "source": [
    "## Write a Python Program to Find HCF?\n"
   ]
  },
  {
   "cell_type": "code",
   "execution_count": 5,
   "metadata": {},
   "outputs": [
    {
     "name": "stdout",
     "output_type": "stream",
     "text": [
      "Enter first number:10\n",
      "Enter second number:341\n",
      "HCF of 10 and 341 is 1\n"
     ]
    }
   ],
   "source": [
    "n1=int(input(\"Enter first number:\"))\n",
    "n2=int(input(\"Enter second number:\"))\n",
    "\n",
    "if n1<n2:\n",
    "    lower=n1\n",
    "else:\n",
    "    lower=n2\n",
    "\n",
    "\n",
    "for i in range(1, lower+1):\n",
    "    if((n1 % i == 0) and (n2 % i == 0)):\n",
    "        hcf = i \n",
    "print(f\"HCF of {n1} and {n2} is {hcf}\")    \n",
    "    "
   ]
  },
  {
   "cell_type": "markdown",
   "metadata": {},
   "source": [
    "## Write a Python Program to Convert Decimal to Binary, Octal and Hexadecimal?\n"
   ]
  },
  {
   "cell_type": "code",
   "execution_count": 6,
   "metadata": {},
   "outputs": [
    {
     "name": "stdout",
     "output_type": "stream",
     "text": [
      "Enter a number to convert it in binray format:20\n",
      "10100\n",
      "24\n",
      "14\n"
     ]
    }
   ],
   "source": [
    "n=eval(input(\"Enter a number to convert it in binray format:\"))\n",
    "ans1=bin(n)\n",
    "ans2=oct(n)\n",
    "ans3=hex(n)\n",
    "print(ans1[2:])\n",
    "print(ans2[2:])\n",
    "print(ans3[2:])"
   ]
  },
  {
   "cell_type": "markdown",
   "metadata": {},
   "source": [
    "## OR\n"
   ]
  },
  {
   "cell_type": "code",
   "execution_count": 7,
   "metadata": {},
   "outputs": [
    {
     "name": "stdout",
     "output_type": "stream",
     "text": [
      "Enter a number to convert it into Binary format:20\n",
      "010100"
     ]
    }
   ],
   "source": [
    "def DecimalToBinary(num):\n",
    "     \n",
    "    if num >= 1:\n",
    "        DecimalToBinary(num // 2) # Recusrsion Function\n",
    "    print(num % 2, end = '')\n",
    "\n",
    "n=int(input(\"Enter a number to convert it into Binary format:\"))\n",
    "DecimalToBinary(n)"
   ]
  },
  {
   "cell_type": "markdown",
   "metadata": {},
   "source": [
    "## Write a Python Program To Find ASCII value of a character?\n"
   ]
  },
  {
   "cell_type": "code",
   "execution_count": 5,
   "metadata": {},
   "outputs": [
    {
     "name": "stdout",
     "output_type": "stream",
     "text": [
      "Enter any character whose ASCII value you want to check:e\n",
      "The ASCII value of e is 101\n"
     ]
    }
   ],
   "source": [
    "character =input(\"Enter any character whose ASCII value you want to check:\")\n",
    "print(f\"The ASCII value of {character} is {ord(character)}\")"
   ]
  },
  {
   "cell_type": "markdown",
   "metadata": {},
   "source": [
    "## Write a Python Program to Make a Simple Calculator with 4 basic mathematical operations?\n"
   ]
  },
  {
   "cell_type": "code",
   "execution_count": 5,
   "metadata": {},
   "outputs": [
    {
     "name": "stdout",
     "output_type": "stream",
     "text": [
      " Press 1 for addition \n",
      " Press 2 for Subtraction \n",
      " Press 3 for Division \n",
      " Press 4 for Multiplication\n",
      "Please enter the number as directed:2\n",
      "You have choosen the Subtraction. So please enter numbers in decreasing order.\n",
      "Now Enter numbers separted by comma:23,5,2\n",
      "subtraction of entered number is 16\n"
     ]
    }
   ],
   "source": [
    "print(\" Press 1 for addition \\n Press 2 for Subtraction \\n Press 3 for Division \\n Press 4 for Multiplication\")\n",
    "n=eval(input(\"Please enter the number as directed:\"))\n",
    "if n==1:\n",
    "    l= [eval(x) for x in input(\"Now Enter numbers separted by comma:\").split(\",\")]\n",
    "    s=0\n",
    "    for i in l:\n",
    "        s=s+i\n",
    "    print(f\"sum of entered number is {s}\")\n",
    "elif n==2:\n",
    "    print(\"You have choosen the Subtraction. So please enter numbers in decreasing order.\")\n",
    "    l= [eval(x) for x in input(\"Now Enter numbers separted by comma:\").split(\",\")]\n",
    "    sub=l[0]\n",
    "    for i in l[1:]:\n",
    "        sub=sub-i\n",
    "    print(f\"subtraction of entered number is {sub}\")    \n",
    "elif n==3:\n",
    "    print(\"Note:You have choosen the Division.So please enter only two numbers.\\n Where your first number should be numerator and second number should be denominator\")\n",
    "    l= [eval(x) for x in input(\"Now Enter numbers separted by comma:\").split(\",\")]\n",
    "    d=l[0]/l[1]\n",
    "    print(f\"division of entered number is {d}\")\n",
    "elif n==4:\n",
    "    l= [eval(x) for x in input(\"Now Enter numbers separted by comma:\").split(\",\")]\n",
    "    m=1\n",
    "    for i in l:\n",
    "        m=m*i\n",
    "    print(f\"multiplication of entered number is {m}\")   \n",
    "else:\n",
    "    print(\"OOPS!! Something went wrong.\")\n",
    "    \n",
    "    "
   ]
  },
  {
   "cell_type": "code",
   "execution_count": null,
   "metadata": {},
   "outputs": [],
   "source": []
  }
 ],
 "metadata": {
  "kernelspec": {
   "display_name": "Python 3",
   "language": "python",
   "name": "python3"
  },
  "language_info": {
   "codemirror_mode": {
    "name": "ipython",
    "version": 3
   },
   "file_extension": ".py",
   "mimetype": "text/x-python",
   "name": "python",
   "nbconvert_exporter": "python",
   "pygments_lexer": "ipython3",
   "version": "3.8.5"
  }
 },
 "nbformat": 4,
 "nbformat_minor": 4
}
