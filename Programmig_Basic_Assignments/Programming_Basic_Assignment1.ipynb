{
 "cells": [
  {
   "cell_type": "markdown",
   "metadata": {},
   "source": [
    "## Write a Python program to print \"Hello Python\"?"
   ]
  },
  {
   "cell_type": "code",
   "execution_count": 1,
   "metadata": {},
   "outputs": [
    {
     "name": "stdout",
     "output_type": "stream",
     "text": [
      "Hello Python\n"
     ]
    }
   ],
   "source": [
    "print(\"Hello Python\")"
   ]
  },
  {
   "cell_type": "markdown",
   "metadata": {},
   "source": [
    "## Write a Python program to do arithmetical operations addition and division.?"
   ]
  },
  {
   "cell_type": "code",
   "execution_count": 5,
   "metadata": {},
   "outputs": [
    {
     "name": "stdout",
     "output_type": "stream",
     "text": [
      "Enter first number:12.7\n",
      "Enter second number:3\n",
      "addition is 15.7\n",
      "Division is 4.233333333333333\n"
     ]
    }
   ],
   "source": [
    "a=eval(input(\"Enter first number:\"))\n",
    "b=eval(input(\"Enter second number:\"))\n",
    "## Addition\n",
    "add=a+b\n",
    "print(\"addition is\",add)\n",
    "## division\n",
    "if b==0:\n",
    "    print(\"Change second number\")\n",
    "    b=eval(input(\"enter second number:\"))\n",
    "    print(\"Division is\",a/b)\n",
    "else:\n",
    "    div=a/b\n",
    "    print(\"Division is\",div)"
   ]
  },
  {
   "cell_type": "markdown",
   "metadata": {},
   "source": [
    "## Write a Python program to find the area of a triangle?\n"
   ]
  },
  {
   "cell_type": "code",
   "execution_count": 8,
   "metadata": {},
   "outputs": [
    {
     "name": "stdout",
     "output_type": "stream",
     "text": [
      "For which triangle you want to find area:\n",
      "1. Right angle triangle 2. Any Other triangle\n",
      "Select your option as 1 or 2:2\n",
      "Enter first side length in cm:12\n",
      "Enter second side length in cm:23\n",
      "Enter third side length in cm:32\n",
      "Area of triangle is 106.50792224055448\n"
     ]
    }
   ],
   "source": [
    "print(\"For which triangle you want to find area:\")\n",
    "print(\"1. Right angle triangle 2. Any Other triangle\")\n",
    "option=int(input(\"Select your option as 1 or 2:\"))\n",
    "if option==1:\n",
    "    b=eval(input(\"enter base length in cm:\"))\n",
    "    h=eval(input(\"enter height length in cm:\"))\n",
    "    area=1/2*(b*h)\n",
    "    print(\"Area of right angle triangle is\",area)\n",
    "elif option==2:\n",
    "    a=eval(input(\"Enter first side length in cm:\"))\n",
    "    b=eval(input(\"Enter second side length in cm:\"))\n",
    "    c=eval(input(\"Enter third side length in cm:\"))\n",
    "    s=(a+b+c)/2\n",
    "    area=(s*(s-a)*(s-b)*(s-c))**(1/2)\n",
    "    print(\"Area of triangle is\",area)"
   ]
  },
  {
   "cell_type": "markdown",
   "metadata": {},
   "source": [
    "## Write a Python program to swap two variables?\n"
   ]
  },
  {
   "cell_type": "code",
   "execution_count": 14,
   "metadata": {},
   "outputs": [
    {
     "name": "stdout",
     "output_type": "stream",
     "text": [
      "Enter value of a:3\n",
      "Enter value of b:3\n",
      "You entered 3 3\n",
      "After Swap 3 3\n"
     ]
    }
   ],
   "source": [
    "a=eval(input(\"Enter value of a:\"))\n",
    "b=eval(input(\"Enter value of b:\"))\n",
    "print(\"You entered\",a,b)\n",
    "c=b\n",
    "b=a\n",
    "a=c\n",
    "print(\"After Swap\",a,b)"
   ]
  },
  {
   "cell_type": "markdown",
   "metadata": {},
   "source": [
    "## Write a Python program to generate a random number?\n"
   ]
  },
  {
   "cell_type": "code",
   "execution_count": 16,
   "metadata": {},
   "outputs": [
    {
     "name": "stdout",
     "output_type": "stream",
     "text": [
      "57\n"
     ]
    }
   ],
   "source": [
    "import random\n",
    "a=random.randint(1,100)\n",
    "print(a)"
   ]
  },
  {
   "cell_type": "code",
   "execution_count": null,
   "metadata": {},
   "outputs": [],
   "source": []
  }
 ],
 "metadata": {
  "kernelspec": {
   "display_name": "Python 3",
   "language": "python",
   "name": "python3"
  },
  "language_info": {
   "codemirror_mode": {
    "name": "ipython",
    "version": 3
   },
   "file_extension": ".py",
   "mimetype": "text/x-python",
   "name": "python",
   "nbconvert_exporter": "python",
   "pygments_lexer": "ipython3",
   "version": "3.8.5"
  }
 },
 "nbformat": 4,
 "nbformat_minor": 4
}
