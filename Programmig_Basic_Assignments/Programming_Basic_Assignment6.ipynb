{
 "cells": [
  {
   "cell_type": "markdown",
   "metadata": {},
   "source": [
    "## Write a Python Program to Display Fibonacci Sequence Using Recursion?\n"
   ]
  },
  {
   "cell_type": "code",
   "execution_count": 25,
   "metadata": {},
   "outputs": [
    {
     "name": "stdout",
     "output_type": "stream",
     "text": [
      "Enter how many terms you want to see of fibonaaci series:10\n",
      "Fibonacci sequence:\n",
      "0\n",
      "1\n",
      "1\n",
      "2\n",
      "3\n",
      "5\n",
      "8\n",
      "13\n",
      "21\n",
      "34\n"
     ]
    }
   ],
   "source": [
    "def fibonnaci(n):\n",
    "    if n <= 1:\n",
    "        return n\n",
    "    else:\n",
    "        return(fibonnaci(n-1) + fibonnaci(n-2))\n",
    "\n",
    "\n",
    "number=int(input(\"Enter how many terms you want to see of fibonaaci series:\"))\n",
    "if number <= 0:\n",
    "    print(\"Plese enter a positive integer\")\n",
    "else:\n",
    "    print(\"Fibonacci sequence:\")\n",
    "    for i in range(number):\n",
    "        print(fibonnaci(i))    \n",
    "    "
   ]
  },
  {
   "cell_type": "markdown",
   "metadata": {},
   "source": [
    "## Write a Python Program to Find Factorial of Number Using Recursion?"
   ]
  },
  {
   "cell_type": "code",
   "execution_count": 32,
   "metadata": {},
   "outputs": [
    {
     "name": "stdout",
     "output_type": "stream",
     "text": [
      "Enter number whose factorial you want:5\n",
      "120\n"
     ]
    }
   ],
   "source": [
    "def fact(n):\n",
    "    if n==0:\n",
    "        return 1\n",
    "    else:\n",
    "        return (n*fact(n-1))\n",
    "\n",
    "number=int(input(\"Enter number whose factorial you want:\"))\n",
    "if number <0:\n",
    "    print(\"Plese enter a positive integer\")\n",
    "elif number==0:\n",
    "    print(\"Factorial of 0 is 1\")\n",
    "else:\n",
    "    print(fact(number))\n",
    "    "
   ]
  },
  {
   "cell_type": "markdown",
   "metadata": {},
   "source": [
    "## Write a Python Program to calculate your Body Mass Index?\n"
   ]
  },
  {
   "cell_type": "code",
   "execution_count": 44,
   "metadata": {},
   "outputs": [
    {
     "name": "stdout",
     "output_type": "stream",
     "text": [
      "Enter your height in centimeter(cm): 162\n",
      "Input your weight in Kilogram: 48\n",
      "Your body mass index is:  18.29\n",
      "This is considered underweight.\n"
     ]
    }
   ],
   "source": [
    "height = float(input(\"Enter your height in centimeter(cm): \"))\n",
    "height= height/100\n",
    "weight = float(input(\"Input your weight in Kilogram: \"))\n",
    "bmi= round(weight / (height * height), 2)\n",
    "print(\"Your body mass index is: \", bmi)\n",
    "if bmi>=18.5 and bmi<= 24.9:\n",
    "    print(\"This is considered normal.\")\n",
    "elif bmi>24.9:\n",
    "    print(\"This is considered overweight.\")\n",
    "elif bmi<18.5:\n",
    "    print(\"This is considered underweight.\")"
   ]
  },
  {
   "cell_type": "markdown",
   "metadata": {},
   "source": [
    "## Write a Python Program to calculate the natural logarithm of any number?\n"
   ]
  },
  {
   "cell_type": "code",
   "execution_count": 46,
   "metadata": {},
   "outputs": [
    {
     "name": "stdout",
     "output_type": "stream",
     "text": [
      "Enter a number:14\n",
      "Natural logarithm of 14 is:2.6390573296152584\n",
      "Logarithm base 5 of 14 is : 1.1461280356782377\n"
     ]
    }
   ],
   "source": [
    "import math\n",
    "n=int(input(\"Enter a number:\"))\n",
    "print (f\"Natural logarithm of {n} is:{math.log(n)}\")\n",
    "\n",
    "print (f\"Logarithm base 10 of 14 is : \", end=\"\")\n",
    "print (math.log(14,10))"
   ]
  },
  {
   "cell_type": "markdown",
   "metadata": {},
   "source": [
    "## Write a Python Program for cube sum of first n natural numbers?\n"
   ]
  },
  {
   "cell_type": "code",
   "execution_count": 47,
   "metadata": {},
   "outputs": [
    {
     "name": "stdout",
     "output_type": "stream",
     "text": [
      "Enter a number:3\n",
      "36\n"
     ]
    }
   ],
   "source": [
    "n=int(input(\"Enter a number:\"))\n",
    "s=0\n",
    "for i in range(1,n+1):\n",
    "    s=s+i**3\n",
    "print(s)    "
   ]
  },
  {
   "cell_type": "code",
   "execution_count": null,
   "metadata": {},
   "outputs": [],
   "source": []
  }
 ],
 "metadata": {
  "kernelspec": {
   "display_name": "Python 3",
   "language": "python",
   "name": "python3"
  },
  "language_info": {
   "codemirror_mode": {
    "name": "ipython",
    "version": 3
   },
   "file_extension": ".py",
   "mimetype": "text/x-python",
   "name": "python",
   "nbconvert_exporter": "python",
   "pygments_lexer": "ipython3",
   "version": "3.8.5"
  }
 },
 "nbformat": 4,
 "nbformat_minor": 4
}
